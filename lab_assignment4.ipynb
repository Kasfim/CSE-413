{
  "nbformat": 4,
  "nbformat_minor": 0,
  "metadata": {
    "colab": {
      "provenance": [],
      "authorship_tag": "ABX9TyM8skrJAKZbhTmb82H4KQlf",
      "include_colab_link": true
    },
    "kernelspec": {
      "name": "python3",
      "display_name": "Python 3"
    },
    "language_info": {
      "name": "python"
    }
  },
  "cells": [
    {
      "cell_type": "markdown",
      "metadata": {
        "id": "view-in-github",
        "colab_type": "text"
      },
      "source": [
        "<a href=\"https://colab.research.google.com/github/Kasfim/CSE-413/blob/main/lab_assignment4.ipynb\" target=\"_parent\"><img src=\"https://colab.research.google.com/assets/colab-badge.svg\" alt=\"Open In Colab\"/></a>"
      ]
    },
    {
      "cell_type": "markdown",
      "source": [
        "Name: Kasfim Jahan Koli\n",
        "\n",
        "ID: 2215151110\n",
        "\n",
        "Section:7A2\n",
        "\n",
        "Course Code: CSE-413\n",
        "\n",
        "Course Title: Simulation & Modeling Lab\n",
        "\n",
        "Task:\n",
        "\n",
        "      Generate two sets of from a normal distribution and perform a two-sample t-test.\n",
        "1.Randomly generate 50 values from a normal distribution with a chosen mean (μ1) and standard deviation.\n",
        "\n",
        "2.Randomly generate 50 values from a normal distribution with a different mean (μ2) and standard deviation."
      ],
      "metadata": {
        "id": "BhGIcjavGwGL"
      }
    },
    {
      "cell_type": "code",
      "source": [
        "import numpy as np\n",
        "import scipy.stats as stats\n",
        "import matplotlib.pyplot as plt\n",
        "mu1, d1 = 50, 10\n",
        "mu2, d2 = 55, 12\n",
        "\n",
        "sample1 = np.random.normal(mu1, d1, 50)\n",
        "sample2 = np.random.normal(mu2, d2, 50)\n",
        "\n",
        "# Two Sample T-test\n",
        "t_stat, p_value = stats.ttest_ind(sample1, sample2, equal_var=False)\n",
        "\n",
        "# Confidence Interval\n",
        "mean_diff = np.mean(sample1) - np.mean(sample2)\n",
        "std_err = np.sqrt(np.var(sample1, ddof=1)/len(sample1) + np.var(sample2, ddof=1)/len(sample2))\n",
        "df = (std_err**4) / ((np.var(sample1, ddof=1)/len(sample1))**2 / (len(sample1)-1) + (np.var(sample2, ddof=1)/len(sample2))**2 / (len(sample2)-1))\n",
        "ci = stats.t.interval(0.95, df, loc=mean_diff, scale=std_err)\n",
        "\n",
        "#Display Results\n",
        "print(f\"Sample 1 Mean: {np.mean(sample1):.2f}\")\n",
        "print(f\"Sample 2 Mean: {np.mean(sample2):.2f}\")\n",
        "print(f\"t-Statistic: {t_stat:.2f}\")\n",
        "print(f\"Degrees of Freedom: {df:.2f}\")\n",
        "print(f\"p-Value: {p_value:.4f}\")\n",
        "print(f\"Confidence Interval of Mean Difference: [{ci[0]:.2f}, {ci[1]:.2f}]\")\n",
        "print('\\n')\n",
        "\n",
        "# Significance level\n",
        "alpha = 0.05\n",
        "if p_value < alpha:\n",
        "    print(\"Reject the null hypothesis. The means of the two samples are significantly different.\")\n",
        "else:\n",
        "    print(\"Fail to reject the null hypothesis. The means of the two samples are not significantly different.\")\n",
        "\n",
        "# Visualize\n",
        "plt.figure(figsize=(6, 4))\n",
        "plt.bar(['Sample 1', 'Sample 2'], [np.mean(sample1), np.mean(sample2)], color=['wheat', 'greenyellow'], alpha=0.7)\n",
        "plt.errorbar(['Sample 1', 'Sample 2'], [np.mean(sample1), np.mean(sample2)], yerr=[np.std(sample1, ddof=1), np.std(sample2, ddof=1)], fmt='k_', capsize=5)\n",
        "plt.title('Comparison of Sample Means')\n",
        "plt.ylabel('Mean Value')\n",
        "plt.grid(True)\n",
        "plt.show()\n",
        ""
      ],
      "metadata": {
        "colab": {
          "base_uri": "https://localhost:8080/",
          "height": 547
        },
        "id": "NCz6bg49Hvwz",
        "outputId": "9a8918f0-36a0-4f0f-d572-21fb7b256b83"
      },
      "execution_count": 1,
      "outputs": [
        {
          "output_type": "stream",
          "name": "stdout",
          "text": [
            "Sample 1 Mean: 50.54\n",
            "Sample 2 Mean: 57.93\n",
            "t-Statistic: -3.38\n",
            "Degrees of Freedom: 93.65\n",
            "p-Value: 0.0010\n",
            "Confidence Interval of Mean Difference: [-11.73, -3.05]\n",
            "\n",
            "\n",
            "Reject the null hypothesis. The means of the two samples are significantly different.\n"
          ]
        },
        {
          "output_type": "display_data",
          "data": {
            "text/plain": [
              "<Figure size 600x400 with 1 Axes>"
            ],
            "image/png": "[encoded data removed]"
          },
          "metadata": {}
        }
      ]
    }
  ]
}