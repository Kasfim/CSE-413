{
  "nbformat": 4,
  "nbformat_minor": 0,
  "metadata": {
    "colab": {
      "provenance": [],
      "authorship_tag": "ABX9TyMWylQLoftGC5ZIit+NgTeJ",
      "include_colab_link": true
    },
    "kernelspec": {
      "name": "python3",
      "display_name": "Python 3"
    },
    "language_info": {
      "name": "python"
    }
  },
  "cells": [
    {
      "cell_type": "markdown",
      "metadata": {
        "id": "view-in-github",
        "colab_type": "text"
      },
      "source": [
        "<a href=\"https://colab.research.google.com/github/Kasfim/CSE-413/blob/main/ID_2215151110.ipynb\" target=\"_parent\"><img src=\"https://colab.research.google.com/assets/colab-badge.svg\" alt=\"Open In Colab\"/></a>"
      ]
    },
    {
      "cell_type": "code",
      "execution_count": 1,
      "metadata": {
        "colab": {
          "base_uri": "https://localhost:8080/"
        },
        "id": "VgZoAWf3JpjX",
        "outputId": "e9e3f636-d275-44a9-c049-c54bbbbff355"
      },
      "outputs": [
        {
          "output_type": "stream",
          "name": "stdout",
          "text": [
            "First Matrix A:\n",
            " [[13 43 42]\n",
            " [24 23 30]\n",
            " [ 6 22 28]]\n",
            "\n",
            "Second Matrix B:\n",
            " [[45 24 23]\n",
            " [21 48 39]\n",
            " [ 2 44 26]]\n"
          ]
        }
      ],
      "source": [
        "# Use numpy to create a 3×3 matrix of random integers between 1 and 50.\n",
        "# 1.Run the code twice\n",
        "\n",
        "import numpy as np\n",
        "\n",
        "matrix_a = np.random.randint(1, 51, size=(3, 3))\n",
        "print(\"First Matrix A:\\n\", matrix_a)\n",
        "\n",
        "matrix_b = np.random.randint(1, 51, size=(3, 3))\n",
        "print(\"\\nSecond Matrix B:\\n\", matrix_b)\n"
      ]
    },
    {
      "cell_type": "code",
      "source": [
        "# 2. With a fixed seed (`np.random.seed(10)`) to ensure reproducibility.\n",
        "\n",
        "np.random.seed(10)\n",
        "matrix_a = np.random.randint(1, 51, size=(3, 3))\n",
        "print(\"First Matrix A:\\n\", matrix_a)\n",
        "\n",
        "matrix_b = np.random.randint(1, 51, size=(3, 3))\n",
        "print(\"\\nSecond Matrix B:\\n\", matrix_b)\n"
      ],
      "metadata": {
        "colab": {
          "base_uri": "https://localhost:8080/"
        },
        "id": "3BPJe0-dJwwf",
        "outputId": "7014d6d6-e958-45ee-b012-c4c6c08c0d9b"
      },
      "execution_count": 2,
      "outputs": [
        {
          "output_type": "stream",
          "name": "stdout",
          "text": [
            "First Matrix A:\n",
            " [[10 37 16]\n",
            " [ 1 50 29]\n",
            " [26 30 49]]\n",
            "\n",
            "Second Matrix B:\n",
            " [[30 50  9]\n",
            " [10  1 43]\n",
            " [41 37 17]]\n"
          ]
        }
      ]
    },
    {
      "cell_type": "code",
      "source": [
        "# 3. Without setting a seed, allowing random values to change each time.\n",
        "\n",
        "matrix_a = np.random.randint(1, 51, size=(3, 3))\n",
        "print(\"First Matrix A:\\n\", matrix_a)\n",
        "\n",
        "matrix_b = np.random.randint(1, 51, size=(3, 3))\n",
        "print(\"\\nSecond Matrix B:\\n\", matrix_b)\n"
      ],
      "metadata": {
        "colab": {
          "base_uri": "https://localhost:8080/"
        },
        "id": "HVQ2EpV1MQTE",
        "outputId": "c26f1d2a-fdf2-4759-88cb-26a8835f731a"
      },
      "execution_count": 3,
      "outputs": [
        {
          "output_type": "stream",
          "name": "stdout",
          "text": [
            "First Matrix A:\n",
            " [[37 48 12]\n",
            " [25 44 34]\n",
            " [ 9 37 15]]\n",
            "\n",
            "Second Matrix B:\n",
            " [[50 14  6]\n",
            " [14 26 14]\n",
            " [29 23 31]]\n"
          ]
        }
      ]
    },
    {
      "cell_type": "code",
      "source": [
        "# 4.Observe and explain the differences in outputs.  (in a different cell as text)\n",
        "1.With a Fixed Seed (np.random.seed(10)):\n",
        "\n",
        "->The random numbers are always the same every time you run the code.\n",
        "\n",
        "->This makes your results consistent and repeatable.\n",
        "\n",
        "2.Without Setting a Seed:\n",
        "\n",
        "->The random numbers change every time you run the code.\n",
        "\n",
        "->This gives you different results each time, adding variability."
      ],
      "metadata": {
        "id": "SOfNexVEMQ4P"
      },
      "execution_count": null,
      "outputs": []
    }
  ]
}