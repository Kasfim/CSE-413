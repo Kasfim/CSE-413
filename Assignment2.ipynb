{
  "nbformat": 4,
  "nbformat_minor": 0,
  "metadata": {
    "colab": {
      "provenance": [],
      "authorship_tag": "ABX9TyPQTM1bHJiPN9BL85Dwi+Sc",
      "include_colab_link": true
    },
    "kernelspec": {
      "name": "python3",
      "display_name": "Python 3"
    },
    "language_info": {
      "name": "python"
    }
  },
  "cells": [
    {
      "cell_type": "markdown",
      "metadata": {
        "id": "view-in-github",
        "colab_type": "text"
      },
      "source": [
        "<a href=\"https://colab.research.google.com/github/Kasfim/CSE-413/blob/main/Assignment2.ipynb\" target=\"_parent\"><img src=\"https://colab.research.google.com/assets/colab-badge.svg\" alt=\"Open In Colab\"/></a>"
      ]
    },
    {
      "cell_type": "code",
      "execution_count": 1,
      "metadata": {
        "colab": {
          "base_uri": "https://localhost:8080/"
        },
        "id": "uEjef8hUUXPW",
        "outputId": "40b756ed-f8e3-4db4-8604-98c04b4375a8"
      },
      "outputs": [
        {
          "output_type": "stream",
          "name": "stdout",
          "text": [
            "Matrix with fixed seed:\n",
            " [[10 37 16]\n",
            " [ 1 50 29]\n",
            " [26 30 49]]\n",
            "\n",
            "Matrix without fixed seed:\n",
            " [[30 50  9]\n",
            " [10  1 43]\n",
            " [41 37 17]]\n"
          ]
        }
      ],
      "source": [
        "# Use numpy to create a 3×3 matrix of random integers between 1 and 50.\n",
        "# Run the code twice\n",
        "# With a fixed seed (`np.random.seed(10)`) to ensure reproducibility.\n",
        "# Without setting a seed, allowing random values to change each time.\n",
        "\n",
        "import numpy as np\n",
        "\n",
        "np.random.seed(10)\n",
        "matrix1 = np.random.randint(1, 51, size=(3, 3))\n",
        "print(\"Matrix with fixed seed:\\n\", matrix1)\n",
        "\n",
        "matrix2 = np.random.randint(1, 51, size=(3, 3))\n",
        "print(\"\\nMatrix without fixed seed:\\n\", matrix2)\n"
      ]
    },
    {
      "cell_type": "code",
      "source": [
        "# Observe and explain the differences in outputs.  (in a different cell as text)\n",
        "1.With a Fixed Seed (np.random.seed(10)):\n",
        "\n",
        "->The random numbers are always the same every time you run the code.\n",
        "\n",
        "->This makes your results consistent and repeatable.\n",
        "\n",
        "2.Without Setting a Seed:\n",
        "\n",
        "->The random numbers change every time you run the code.\n",
        "\n",
        "->This gives you different results each time, adding variability."
      ],
      "metadata": {
        "id": "nHY626U9VNVi"
      },
      "execution_count": null,
      "outputs": []
    }
  ]
}